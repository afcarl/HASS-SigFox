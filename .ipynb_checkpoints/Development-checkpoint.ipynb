{
 "cells": [
  {
   "cell_type": "markdown",
   "metadata": {},
   "source": [
    "Steal from https://github.com/hecko/pySigfox/blob/master/pySigfox/pySigfox.py"
   ]
  },
  {
   "cell_type": "code",
   "execution_count": 1,
   "metadata": {},
   "outputs": [],
   "source": [
    "import os\n",
    "import sys\n",
    "import json\n",
    "import requests\n",
    "from pprint import pprint\n",
    "\n",
    "def load_api_secrets(filename):\n",
    "    \"\"\"Load credentials from json file.\"\"\"\n",
    "    try:\n",
    "        with open(filename, 'r') as fp:\n",
    "            api_params = json.load(fp)\n",
    "    except Exception as e:\n",
    "        print('Failed to load API secrets key: {}'.format(e))\n",
    "        api_params = None\n",
    "    return api_params"
   ]
  },
  {
   "cell_type": "code",
   "execution_count": 2,
   "metadata": {},
   "outputs": [],
   "source": [
    "api_secrets_file = '/Users/robincole/Desktop/SigFox_API_key.json'"
   ]
  },
  {
   "cell_type": "code",
   "execution_count": 3,
   "metadata": {},
   "outputs": [],
   "source": [
    "api_params = load_api_secrets(api_secrets_file)\n",
    "\n",
    "API_login = api_params['API_login']\n",
    "API_pass = api_params['API_pass']"
   ]
  },
  {
   "cell_type": "code",
   "execution_count": 4,
   "metadata": {},
   "outputs": [],
   "source": [
    "class Sigfox:\n",
    "    def __init__(self, login, password, debug=False):\n",
    "        if not login or not password:\n",
    "            raise Exception(\"Please define login and password when initiating pySigfox class!\")\n",
    "        self.login    = login\n",
    "        self.password = password\n",
    "        self.api_url  = 'https://backend.sigfox.com/api/'\n",
    "        self.debug = debug\n",
    "\n",
    "    def login_test(self):\n",
    "        \"\"\"Try to login into the  Sigfox backend API - if unauthorized or any other issue raise Exception\n",
    "        \"\"\"\n",
    "        url = self.api_url + 'devicetypes'\n",
    "        r = requests.get(url, auth=requests.auth.HTTPBasicAuth(self.login, self.password))\n",
    "        if r.status_code != 200:\n",
    "            raise Exception(\"Unable to login to Sigfox API: \" + str(r.status_code))\n",
    "\n",
    "    def device_types_list(self):\n",
    "        \"\"\"Return list of device types dictionaries\n",
    "        \"\"\"\n",
    "        out = []\n",
    "        url = self.api_url + 'devicetypes'\n",
    "        r = requests.get(url, auth=requests.auth.HTTPBasicAuth(self.login, self.password))\n",
    "        for device in json.loads(r.text)['data']:\n",
    "            out.append(device)\n",
    "        return out\n",
    "\n",
    "    def device_info(self, device_id):\n",
    "        \"\"\"Return information about specific device\n",
    "        \"\"\"\n",
    "        out = []\n",
    "        url = self.api_url + 'devices/' + str(device_id)\n",
    "        if self.debug:\n",
    "            print(\"Connecting to \" + url)\n",
    "        r = requests.get(url, auth=requests.auth.HTTPBasicAuth(self.login, self.password))\n",
    "        try:\n",
    "            return json.loads(r.text)\n",
    "        except Exception as e:\n",
    "            pprint(r.text)\n",
    "            raise\n",
    "\n",
    "    def device_list(self, device_type):\n",
    "        \"\"\"Return array of dictionaries - one array item per device.\n",
    "        :param device_type: Return only devices of a certain type.\n",
    "            This is a object from device_groups_list()\n",
    "        :return: List of dictionaries \n",
    "        :rtype: list\n",
    "        \"\"\"\n",
    "        device_type_ids = []\n",
    "        out = []\n",
    "        url = self.api_url + 'devicetypes/' + device_type['id'] + '/devices'\n",
    "        r = requests.get(url, auth=requests.auth.HTTPBasicAuth(self.login, self.password))\n",
    "        try:\n",
    "            out.extend(json.loads(r.text)['data'])\n",
    "        except Exception as e:\n",
    "            print(\"Unable to access data from returned RESP API call: \" + str(e))\n",
    "            pprint(r.text)\n",
    "            raise\n",
    "        return out\n",
    "\n",
    "    def device_messages(self, device, limit=10):\n",
    "        \"\"\"Return array of 10 last messages from specific device.\n",
    "           \n",
    "        :param device: Device object\n",
    "        :param limit: how many messages to retrieve - max limit 100\n",
    "        :type limit: int\n",
    "        \"\"\"\n",
    "\n",
    "        url = self.api_url + 'devices/' + str(device['id']) + '/messages?limit=' + str(limit)\n",
    "        r = requests.get(url, auth=requests.auth.HTTPBasicAuth(self.login, self.password))\n",
    "\n",
    "        try:\n",
    "            out = json.loads(r.text)['data']\n",
    "        except Exception as e:\n",
    "            pprint(r.text)\n",
    "            raise\n",
    "\n",
    "        return out\n",
    "\n",
    "    def device_messages_page(self, url):\n",
    "        \"\"\"Return array of message from paging URL.\n",
    "        \"\"\"\n",
    "        out = []\n",
    "        r = requests.get(url, auth=requests.auth.HTTPBasicAuth(self.login, self.password))\n",
    "        out.extend(json.loads(r.text)['data'])\n",
    "        try:\n",
    "            json.loads(r.text)['paging']['next']\n",
    "            out.extend(self.device_messages_page(json.loads(r.text)['paging']['next']))\n",
    "        except Exception as e:\n",
    "            # no more pages\n",
    "            pass\n",
    "\n",
    "        return out"
   ]
  },
  {
   "cell_type": "markdown",
   "metadata": {},
   "source": [
    "Run the example https://github.com/hecko/pySigfox/blob/master/example.py"
   ]
  },
  {
   "cell_type": "code",
   "execution_count": 5,
   "metadata": {},
   "outputs": [],
   "source": [
    "s = Sigfox(login=API_login, password=API_pass)"
   ]
  },
  {
   "cell_type": "code",
   "execution_count": 6,
   "metadata": {},
   "outputs": [],
   "source": [
    "s.login_test()"
   ]
  },
  {
   "cell_type": "code",
   "execution_count": 7,
   "metadata": {},
   "outputs": [
    {
     "data": {
      "text/plain": [
       "[{'contract': '5a706c203c878968fedcd0ff',\n",
       "  'description': 'Auto created device type for EVK user : Robin Cole',\n",
       "  'group': '5aa59d3d5005741b7de9aa50',\n",
       "  'id': '5aa59d3d5005741b7de9aa51',\n",
       "  'keepAlive': 0,\n",
       "  'name': 'Pycom - lopy',\n",
       "  'payloadType': 'String'}]"
      ]
     },
     "execution_count": 7,
     "metadata": {},
     "output_type": "execute_result"
    }
   ],
   "source": [
    "s.device_types_list()"
   ]
  },
  {
   "cell_type": "code",
   "execution_count": 8,
   "metadata": {},
   "outputs": [
    {
     "name": "stdout",
     "output_type": "stream",
     "text": [
      "Getting list of all devices:\n",
      "{'activationTime': 1520803295634,\n",
      " 'automaticRenewal': False,\n",
      " 'averageRssi': -106.24595,\n",
      " 'averageSignal': 45.19108,\n",
      " 'averageSnr': 45.19108,\n",
      " 'contractId': '5a706c203c878968fedcd0ff',\n",
      " 'id': '4D30A7',\n",
      " 'last': 1520803477,\n",
      " 'lat': 0.0,\n",
      " 'lng': 0.0,\n",
      " 'name': 'Device 004d30a7',\n",
      " 'preventRenewal': True,\n",
      " 'state': 0,\n",
      " 'tokenEnd': 1552339295634,\n",
      " 'tokenType': 'CONTRACT',\n",
      " 'type': '5aa59d3d5005741b7de9aa51'}\n"
     ]
    }
   ],
   "source": [
    "print(\"Getting list of all devices:\")\n",
    "for device_type in s.device_types_list():\n",
    "    for device in s.device_list(device_type):\n",
    "        pprint(device)\n",
    "        last_device = device"
   ]
  },
  {
   "cell_type": "code",
   "execution_count": 9,
   "metadata": {},
   "outputs": [
    {
     "name": "stdout",
     "output_type": "stream",
     "text": [
      "== Last 3 messages from Device 004d30a7:\n",
      "[{'country': 'GBR',\n",
      "  'data': '48656c6c6f20576f726c64',\n",
      "  'device': '4D30A7',\n",
      "  'groupId': '5aa59d3d5005741b7de9aa50',\n",
      "  'linkQuality': 'GOOD',\n",
      "  'nbFrames': 3,\n",
      "  'operator': 'SIGFOX_UK_Arqiva',\n",
      "  'rinfos': [{'delay': 1.0449999570846558,\n",
      "              'lat': '51.0',\n",
      "              'lng': '0.0',\n",
      "              'tap': '0B79'},\n",
      "             {'delay': 2.437000036239624,\n",
      "              'lat': '51.0',\n",
      "              'lng': '0.0',\n",
      "              'tap': '1DB6'}],\n",
      "  'seqNumber': 1,\n",
      "  'snr': '46.48',\n",
      "  'time': 1520803477},\n",
      " {'country': 'GBR',\n",
      "  'data': '0102030405060708090a0b0c',\n",
      "  'device': '4D30A7',\n",
      "  'groupId': '5aa59d3d5005741b7de9aa50',\n",
      "  'linkQuality': 'GOOD',\n",
      "  'nbFrames': 3,\n",
      "  'operator': 'SIGFOX_UK_Arqiva',\n",
      "  'rinfos': [{'delay': 0.574999988079071,\n",
      "              'lat': '51.0',\n",
      "              'lng': '0.0',\n",
      "              'tap': '0B79'}],\n",
      "  'seqNumber': 0,\n",
      "  'snr': '43.35',\n",
      "  'time': 1520803295}]\n"
     ]
    }
   ],
   "source": [
    "print(\"== Last 3 messages from \" + last_device['name'] + \":\")\n",
    "pprint(s.device_messages(last_device, limit=3))"
   ]
  },
  {
   "cell_type": "code",
   "execution_count": 10,
   "metadata": {},
   "outputs": [
    {
     "data": {
      "text/plain": [
       "{'activationTime': 1520803295634,\n",
       " 'automaticRenewal': False,\n",
       " 'averageRssi': -106.24595,\n",
       " 'averageSignal': 45.19108,\n",
       " 'averageSnr': 45.19108,\n",
       " 'contractId': '5a706c203c878968fedcd0ff',\n",
       " 'id': '4D30A7',\n",
       " 'last': 1520803477,\n",
       " 'lat': 0.0,\n",
       " 'lng': 0.0,\n",
       " 'name': 'Device 004d30a7',\n",
       " 'preventRenewal': True,\n",
       " 'state': 0,\n",
       " 'tokenEnd': 1552339295634,\n",
       " 'tokenType': 'CONTRACT',\n",
       " 'type': '5aa59d3d5005741b7de9aa51'}"
      ]
     },
     "execution_count": 10,
     "metadata": {},
     "output_type": "execute_result"
    }
   ],
   "source": [
    "last_device"
   ]
  },
  {
   "cell_type": "code",
   "execution_count": 18,
   "metadata": {},
   "outputs": [
    {
     "data": {
      "text/plain": [
       "'Device 004d30a7'"
      ]
     },
     "execution_count": 18,
     "metadata": {},
     "output_type": "execute_result"
    }
   ],
   "source": [
    "last_device['name']"
   ]
  },
  {
   "cell_type": "markdown",
   "metadata": {},
   "source": [
    "Get the last message only"
   ]
  },
  {
   "cell_type": "code",
   "execution_count": 11,
   "metadata": {},
   "outputs": [
    {
     "data": {
      "text/plain": [
       "[{'country': 'GBR',\n",
       "  'data': '48656c6c6f20576f726c64',\n",
       "  'device': '4D30A7',\n",
       "  'groupId': '5aa59d3d5005741b7de9aa50',\n",
       "  'linkQuality': 'GOOD',\n",
       "  'nbFrames': 3,\n",
       "  'operator': 'SIGFOX_UK_Arqiva',\n",
       "  'rinfos': [{'delay': 1.0449999570846558,\n",
       "    'lat': '51.0',\n",
       "    'lng': '0.0',\n",
       "    'tap': '0B79'},\n",
       "   {'delay': 2.437000036239624, 'lat': '51.0', 'lng': '0.0', 'tap': '1DB6'}],\n",
       "  'seqNumber': 1,\n",
       "  'snr': '46.48',\n",
       "  'time': 1520803477}]"
      ]
     },
     "execution_count": 11,
     "metadata": {},
     "output_type": "execute_result"
    }
   ],
   "source": [
    "data = s.device_messages(last_device, limit=1)\n",
    "data"
   ]
  },
  {
   "cell_type": "code",
   "execution_count": 12,
   "metadata": {},
   "outputs": [
    {
     "name": "stdout",
     "output_type": "stream",
     "text": [
      "Hello World\n"
     ]
    }
   ],
   "source": [
    "print(bytes.fromhex(data[0]['data']).decode('utf-8')) # print the message decoded"
   ]
  },
  {
   "cell_type": "code",
   "execution_count": 15,
   "metadata": {},
   "outputs": [
    {
     "data": {
      "text/plain": [
       "'51.0'"
      ]
     },
     "execution_count": 15,
     "metadata": {},
     "output_type": "execute_result"
    }
   ],
   "source": [
    "lat = data[0]['rinfos'][0]['lat']\n",
    "lat"
   ]
  },
  {
   "cell_type": "code",
   "execution_count": 17,
   "metadata": {},
   "outputs": [
    {
     "data": {
      "text/plain": [
       "'0.0'"
      ]
     },
     "execution_count": 17,
     "metadata": {},
     "output_type": "execute_result"
    }
   ],
   "source": [
    "lng = data[0]['rinfos'][0]['lng']\n",
    "lng"
   ]
  },
  {
   "cell_type": "code",
   "execution_count": null,
   "metadata": {},
   "outputs": [],
   "source": []
  }
 ],
 "metadata": {
  "kernelspec": {
   "display_name": "Python 3",
   "language": "python",
   "name": "python3"
  },
  "language_info": {
   "codemirror_mode": {
    "name": "ipython",
    "version": 3
   },
   "file_extension": ".py",
   "mimetype": "text/x-python",
   "name": "python",
   "nbconvert_exporter": "python",
   "pygments_lexer": "ipython3",
   "version": "3.6.3"
  }
 },
 "nbformat": 4,
 "nbformat_minor": 2
}
