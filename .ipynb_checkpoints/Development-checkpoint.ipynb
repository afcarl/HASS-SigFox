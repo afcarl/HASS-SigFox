{
 "cells": [
  {
   "cell_type": "markdown",
   "metadata": {},
   "source": [
    "Steal from https://github.com/hecko/pySigfox/blob/master/pySigfox/pySigfox.py"
   ]
  },
  {
   "cell_type": "code",
   "execution_count": 89,
   "metadata": {},
   "outputs": [],
   "source": [
    "import os\n",
    "import sys\n",
    "import json\n",
    "import requests\n",
    "import datetime\n",
    "import pprint\n",
    "import binascii\n",
    "\n",
    "def print_json(json_data):\n",
    "    pprint.PrettyPrinter().pprint(json_data)\n",
    "\n",
    "def load_api_secrets(filename):\n",
    "    \"\"\"Load credentials from json file.\"\"\"\n",
    "    try:\n",
    "        with open(filename, 'r') as fp:\n",
    "            api_params = json.load(fp)\n",
    "    except Exception as e:\n",
    "        print('Failed to load API secrets key: {}'.format(e))\n",
    "        api_params = None\n",
    "    return api_params\n",
    "\n",
    "API_URL  = 'https://backend.sigfox.com/api/'"
   ]
  },
  {
   "cell_type": "code",
   "execution_count": 2,
   "metadata": {},
   "outputs": [],
   "source": [
    "api_secrets_file = '/Users/robincole/Desktop/SigFox_API_key.json'"
   ]
  },
  {
   "cell_type": "code",
   "execution_count": 16,
   "metadata": {},
   "outputs": [],
   "source": [
    "api_params = load_api_secrets(api_secrets_file)\n",
    "\n",
    "API_login = api_params['API_login']\n",
    "API_pass = api_params['API_pass']\n",
    "#API_pass = 'bad'"
   ]
  },
  {
   "cell_type": "code",
   "execution_count": 17,
   "metadata": {},
   "outputs": [],
   "source": [
    "class Sigfox:\n",
    "    \"\"\"Class for interacting with the SigFox API.\"\"\"\n",
    "    def __init__(self, login, password):\n",
    "        self.login    = login\n",
    "        self.password = password\n",
    "        self.api_url  = 'https://backend.sigfox.com/api/'\n",
    "\n",
    "    def login_test(self):\n",
    "        \"\"\"\n",
    "        Try to login into the  Sigfox backend API.\n",
    "        \"\"\"\n",
    "        url = self.api_url + 'devicetypes'\n",
    "        r = requests.get(url, auth=requests.auth.HTTPBasicAuth(self.login, self.password))\n",
    "        if r.status_code != 200:\n",
    "            print(r.status_code)\n",
    "            raise Exception(\"Unable to login to Sigfox API: \" + str(r.status_code))\n",
    "\n",
    "    def device_types_list(self):\n",
    "        \"\"\"\n",
    "        Return list of device types dictionaries.\n",
    "        \"\"\"\n",
    "        out = []\n",
    "        url = self.api_url + 'devicetypes'\n",
    "        r = requests.get(url, auth=requests.auth.HTTPBasicAuth(self.login, self.password))\n",
    "        for device in json.loads(r.text)['data']:\n",
    "            out.append(device)\n",
    "        return out\n",
    "\n",
    "    def device_info(self, device_id):\n",
    "        \"\"\"Return information about specific device\n",
    "        \"\"\"\n",
    "        out = []\n",
    "        url = self.api_url + 'devices/' + str(device_id)\n",
    "        if self.debug:\n",
    "            print(\"Connecting to \" + url)\n",
    "        r = requests.get(url, auth=requests.auth.HTTPBasicAuth(self.login, self.password))\n",
    "        try:\n",
    "            return json.loads(r.text)\n",
    "        except Exception as e:\n",
    "            pprint(r.text)\n",
    "            raise\n",
    "\n",
    "    def device_list(self, device_type):\n",
    "        \"\"\"\n",
    "        Return array of dictionaries - one array item per device.\n",
    "        \n",
    "        :param device_type: Return only devices of a certain type.\n",
    "            This is a object from device_groups_list()\n",
    "        :return: List of dictionaries \n",
    "        :rtype: list\n",
    "        \"\"\"\n",
    "        device_type_ids = []\n",
    "        out = []\n",
    "        url = self.api_url + 'devicetypes/' + device_type['id'] + '/devices'\n",
    "        r = requests.get(url, auth=requests.auth.HTTPBasicAuth(self.login, self.password))\n",
    "        try:\n",
    "            out.extend(json.loads(r.text)['data'])\n",
    "        except Exception as e:\n",
    "            print(\"Unable to access data from returned RESP API call: \" + str(e))\n",
    "            pprint(r.text)\n",
    "            raise\n",
    "        return out\n",
    "\n",
    "    def device_messages(self, device, limit=10):\n",
    "        \"\"\"Return array of 10 last messages from specific device.\n",
    "           \n",
    "        :param device: Device object\n",
    "        :param limit: how many messages to retrieve - max limit 100\n",
    "        :type limit: int\n",
    "        \"\"\"\n",
    "\n",
    "        url = self.api_url + 'devices/' + str(device['id']) + '/messages?limit=' + str(limit)\n",
    "        r = requests.get(url, auth=requests.auth.HTTPBasicAuth(self.login, self.password))\n",
    "\n",
    "        try:\n",
    "            out = json.loads(r.text)['data']\n",
    "        except Exception as e:\n",
    "            pprint(r.text)\n",
    "            raise\n",
    "\n",
    "        return out"
   ]
  },
  {
   "cell_type": "markdown",
   "metadata": {},
   "source": [
    "Run the example https://github.com/hecko/pySigfox/blob/master/example.py"
   ]
  },
  {
   "cell_type": "code",
   "execution_count": 18,
   "metadata": {},
   "outputs": [],
   "source": [
    "s = Sigfox(login=API_login, password=API_pass)"
   ]
  },
  {
   "cell_type": "code",
   "execution_count": 19,
   "metadata": {},
   "outputs": [],
   "source": [
    "s.login_test()"
   ]
  },
  {
   "cell_type": "code",
   "execution_count": 20,
   "metadata": {},
   "outputs": [
    {
     "data": {
      "text/plain": [
       "[{'contract': '5a706c203c878968fedcd0ff',\n",
       "  'description': 'Auto created device type for EVK user : Robin Cole',\n",
       "  'group': '5aa59d3d5005741b7de9aa50',\n",
       "  'id': '5aa59d3d5005741b7de9aa51',\n",
       "  'keepAlive': 0,\n",
       "  'name': 'Pycom - lopy',\n",
       "  'payloadType': 'String'}]"
      ]
     },
     "execution_count": 20,
     "metadata": {},
     "output_type": "execute_result"
    }
   ],
   "source": [
    "s.device_types_list() # The device type id is required for accessing device info"
   ]
  },
  {
   "cell_type": "code",
   "execution_count": 21,
   "metadata": {},
   "outputs": [
    {
     "name": "stdout",
     "output_type": "stream",
     "text": [
      "device type id is 5aa59d3d5005741b7de9aa51\n"
     ]
    }
   ],
   "source": [
    "print(\"device type id is {}\".format(s.device_types_list()[0]['id']))"
   ]
  },
  {
   "cell_type": "code",
   "execution_count": 22,
   "metadata": {},
   "outputs": [
    {
     "name": "stdout",
     "output_type": "stream",
     "text": [
      "Getting list of all devices:\n",
      "{'activationTime': 1520803295634,\n",
      " 'automaticRenewal': False,\n",
      " 'averageRssi': -108.955215,\n",
      " 'averageSignal': 42.330162,\n",
      " 'averageSnr': 42.330162,\n",
      " 'contractId': '5a706c203c878968fedcd0ff',\n",
      " 'id': '4D30A7',\n",
      " 'last': 1521879720,\n",
      " 'lat': 0.0,\n",
      " 'lng': 0.0,\n",
      " 'name': 'Device 004d30a7',\n",
      " 'preventRenewal': True,\n",
      " 'state': 0,\n",
      " 'tokenEnd': 1552339295634,\n",
      " 'tokenType': 'CONTRACT',\n",
      " 'type': '5aa59d3d5005741b7de9aa51'}\n",
      "Device id is 4D30A7\n"
     ]
    }
   ],
   "source": [
    "print(\"Getting list of all devices:\") # Each device is identified by a device id\n",
    "for device_type in s.device_types_list():\n",
    "    for device in s.device_list(device_type):\n",
    "        pprint(device)\n",
    "        print(\"Device id is {}\".format(device['id']))\n",
    "        last_device = device"
   ]
  },
  {
   "cell_type": "code",
   "execution_count": 23,
   "metadata": {},
   "outputs": [
    {
     "name": "stdout",
     "output_type": "stream",
     "text": [
      "== Last 3 messages from 4D30A7:\n",
      "[{'country': 'GBR',\n",
      "  'data': '7b2274223a3635303834337d',\n",
      "  'device': '4D30A7',\n",
      "  'groupId': '5aa59d3d5005741b7de9aa50',\n",
      "  'linkQuality': 'GOOD',\n",
      "  'nbFrames': 3,\n",
      "  'operator': 'SIGFOX_UK_Arqiva',\n",
      "  'rinfos': [{'delay': 1.5759999752044678,\n",
      "              'lat': '51.0',\n",
      "              'lng': '0.0',\n",
      "              'tap': '0B79'},\n",
      "             {'delay': 3.877000093460083,\n",
      "              'lat': '51.0',\n",
      "              'lng': '0.0',\n",
      "              'tap': '1DB6'}],\n",
      "  'seqNumber': 94,\n",
      "  'snr': '47.20',\n",
      "  'time': 1521879720},\n",
      " {'country': 'GBR',\n",
      "  'data': '7b2274223a3237323834377d',\n",
      "  'device': '4D30A7',\n",
      "  'groupId': '5aa59d3d5005741b7de9aa50',\n",
      "  'linkQuality': 'GOOD',\n",
      "  'nbFrames': 3,\n",
      "  'operator': 'SIGFOX_UK_Arqiva',\n",
      "  'rinfos': [{'delay': 1.371999979019165,\n",
      "              'lat': '51.0',\n",
      "              'lng': '0.0',\n",
      "              'tap': '0B79'}],\n",
      "  'seqNumber': 93,\n",
      "  'snr': '46.20',\n",
      "  'time': 1521879681},\n",
      " {'country': 'GBR',\n",
      "  'data': '7b2274223a3839333833397d',\n",
      "  'device': '4D30A7',\n",
      "  'groupId': '5aa59d3d5005741b7de9aa50',\n",
      "  'linkQuality': 'GOOD',\n",
      "  'nbFrames': 3,\n",
      "  'operator': 'SIGFOX_UK_Arqiva',\n",
      "  'rinfos': [{'delay': 1.7790000438690186,\n",
      "              'lat': '51.0',\n",
      "              'lng': '0.0',\n",
      "              'tap': '0B79'}],\n",
      "  'seqNumber': 92,\n",
      "  'snr': '48.58',\n",
      "  'time': 1521879641}]\n"
     ]
    }
   ],
   "source": [
    "print(\"== Last 3 messages from \" + last_device['id'] + \":\")\n",
    "pprint(s.device_messages(last_device, limit=3))"
   ]
  },
  {
   "cell_type": "code",
   "execution_count": 24,
   "metadata": {},
   "outputs": [
    {
     "data": {
      "text/plain": [
       "{'activationTime': 1520803295634,\n",
       " 'automaticRenewal': False,\n",
       " 'averageRssi': -108.955215,\n",
       " 'averageSignal': 42.330162,\n",
       " 'averageSnr': 42.330162,\n",
       " 'contractId': '5a706c203c878968fedcd0ff',\n",
       " 'id': '4D30A7',\n",
       " 'last': 1521879720,\n",
       " 'lat': 0.0,\n",
       " 'lng': 0.0,\n",
       " 'name': 'Device 004d30a7',\n",
       " 'preventRenewal': True,\n",
       " 'state': 0,\n",
       " 'tokenEnd': 1552339295634,\n",
       " 'tokenType': 'CONTRACT',\n",
       " 'type': '5aa59d3d5005741b7de9aa51'}"
      ]
     },
     "execution_count": 24,
     "metadata": {},
     "output_type": "execute_result"
    }
   ],
   "source": [
    "last_device"
   ]
  },
  {
   "cell_type": "code",
   "execution_count": 25,
   "metadata": {},
   "outputs": [
    {
     "data": {
      "text/plain": [
       "'Device 004d30a7'"
      ]
     },
     "execution_count": 25,
     "metadata": {},
     "output_type": "execute_result"
    }
   ],
   "source": [
    "last_device['name']"
   ]
  },
  {
   "cell_type": "markdown",
   "metadata": {},
   "source": [
    "Get the last message only"
   ]
  },
  {
   "cell_type": "code",
   "execution_count": 26,
   "metadata": {},
   "outputs": [
    {
     "data": {
      "text/plain": [
       "[{'country': 'GBR',\n",
       "  'data': '7b2274223a3635303834337d',\n",
       "  'device': '4D30A7',\n",
       "  'groupId': '5aa59d3d5005741b7de9aa50',\n",
       "  'linkQuality': 'GOOD',\n",
       "  'nbFrames': 3,\n",
       "  'operator': 'SIGFOX_UK_Arqiva',\n",
       "  'rinfos': [{'delay': 1.5759999752044678,\n",
       "    'lat': '51.0',\n",
       "    'lng': '0.0',\n",
       "    'tap': '0B79'},\n",
       "   {'delay': 3.877000093460083, 'lat': '51.0', 'lng': '0.0', 'tap': '1DB6'}],\n",
       "  'seqNumber': 94,\n",
       "  'snr': '47.20',\n",
       "  'time': 1521879720}]"
      ]
     },
     "execution_count": 26,
     "metadata": {},
     "output_type": "execute_result"
    }
   ],
   "source": [
    "data = s.device_messages(last_device, limit=1)\n",
    "data"
   ]
  },
  {
   "cell_type": "code",
   "execution_count": 27,
   "metadata": {},
   "outputs": [
    {
     "name": "stdout",
     "output_type": "stream",
     "text": [
      "{\"t\":650843}\n"
     ]
    }
   ],
   "source": [
    "print(bytes.fromhex(data[0]['data']).decode('utf-8')) # print the message decoded"
   ]
  },
  {
   "cell_type": "code",
   "execution_count": 28,
   "metadata": {},
   "outputs": [
    {
     "data": {
      "text/plain": [
       "'51.0'"
      ]
     },
     "execution_count": 28,
     "metadata": {},
     "output_type": "execute_result"
    }
   ],
   "source": [
    "lat = data[0]['rinfos'][0]['lat']\n",
    "lat"
   ]
  },
  {
   "cell_type": "code",
   "execution_count": 29,
   "metadata": {},
   "outputs": [
    {
     "data": {
      "text/plain": [
       "'0.0'"
      ]
     },
     "execution_count": 29,
     "metadata": {},
     "output_type": "execute_result"
    }
   ],
   "source": [
    "lng = data[0]['rinfos'][0]['lng']\n",
    "lng"
   ]
  },
  {
   "cell_type": "markdown",
   "metadata": {},
   "source": [
    "## Simple class for SigFox"
   ]
  },
  {
   "cell_type": "code",
   "execution_count": 106,
   "metadata": {},
   "outputs": [],
   "source": [
    "API_URL  = 'https://backend.sigfox.com/api/'\n",
    "TIME_FORMAT = '%Y-%m-%d %H:%M:%S'\n",
    "\n",
    "def epoch_to_datetime(epoch_time):\n",
    "    \"\"\"Take an ms since epoch and return datetime string.\"\"\"\n",
    "    value = datetime.datetime.fromtimestamp(epoch_time)\n",
    "    return value.strftime(TIME_FORMAT)\n",
    "\n",
    "class SigfoxData:\n",
    "    \"\"\"Class for interacting with the SigFox API.\"\"\"\n",
    "    def __init__(self, login, password):\n",
    "        self._auth = requests.auth.HTTPBasicAuth(login, password)\n",
    "        r = requests.get(API_URL + 'devicetypes', auth=self._auth)\n",
    "        if r.status_code != 200:\n",
    "            raise Exception(\"Unable to login to Sigfox API: \" + str(r.status_code))\n",
    "        self._device_types = []\n",
    "        self.get_device_types()\n",
    "        self._devices = []\n",
    "        self.get_devices()\n",
    "    \n",
    "    def get_device_types(self):\n",
    "        \"\"\"Get a list of device types.\"\"\"\n",
    "        url = API_URL + 'devicetypes'\n",
    "        print(\"get_device_types : \" + url)\n",
    "        r = requests.get(url, auth=self._auth)\n",
    "        for device in json.loads(r.text)['data']:\n",
    "            self._device_types.append(device['id'])\n",
    "            \n",
    "    def get_devices(self):\n",
    "        \"\"\"Get the id of each device owned.\"\"\"\n",
    "        for unique_type in self._device_types:  \n",
    "            url = API_URL + 'devicetypes/' + unique_type + '/devices'\n",
    "            print(\"get_devices : \" + url)\n",
    "            r = requests.get(url, auth=self._auth)\n",
    "            devices = json.loads(r.text)['data']\n",
    "            for device in devices:\n",
    "                self._devices.append(device['id'])\n",
    "                \n",
    "    @property\n",
    "    def auth(self):\n",
    "        \"\"\"Return the authentification.\"\"\"\n",
    "        return self._auth\n",
    "    \n",
    "    @property\n",
    "    def devices(self):\n",
    "        \"\"\"Return the list of devices.\"\"\"\n",
    "        return self._devices\n",
    "                \n",
    "\n",
    "class SigfoxDevice:\n",
    "    \"\"\"Class for single SigFox device, init with id from devices.\"\"\"\n",
    "    def __init__(self, device_id, auth):\n",
    "        \n",
    "        self._device_id = device_id\n",
    "        self._auth = auth\n",
    "        self._data = {}\n",
    "        self._name = device_id + '_sigfox'\n",
    "        self._state = None\n",
    "\n",
    "    def get_last_message(self):\n",
    "        \"\"\"Return the last message from a device.\"\"\"\n",
    "        url = API_URL + 'devices/' + self._device_id + '/messages?limit=1'\n",
    "        print(\"get_last_message_url : \" + url)\n",
    "        r = requests.get(url, auth=self._auth)\n",
    "        data = json.loads(r.text)['data'][0]\n",
    "        payload = bytes.fromhex(data['data']).decode('utf-8')\n",
    "        lat = data['rinfos'][0]['lat']\n",
    "        lng = data['rinfos'][0]['lng']\n",
    "        snr = data['snr']\n",
    "        epoch_time = data['time']\n",
    "        return {'lat':lat, 'lng': lng, 'payload': payload, 'snr': snr, 'time': epoch_to_datetime(epoch_time)}\n",
    "        \n",
    "    def update(self):\n",
    "        \"\"\"Fetch the latest message data.\"\"\"\n",
    "        self._data = self.get_last_message()\n",
    "        self._state = self._data['payload']\n",
    "        \n",
    "    @property\n",
    "    def name(self):\n",
    "        \"\"\"Return the name of the sensor.\"\"\"\n",
    "        return self._name\n",
    "\n",
    "    @property\n",
    "    def state(self):\n",
    "        \"\"\"Return the state of the sensor.\"\"\"\n",
    "        return self._state\n",
    "    \n",
    "    @property\n",
    "    def device_state_attributes(self):\n",
    "        \"\"\"Return other details about the sensor state.\"\"\"\n",
    "        return self._data"
   ]
  },
  {
   "cell_type": "code",
   "execution_count": 107,
   "metadata": {},
   "outputs": [
    {
     "name": "stdout",
     "output_type": "stream",
     "text": [
      "get_device_types : https://backend.sigfox.com/api/devicetypes\n",
      "get_devices : https://backend.sigfox.com/api/devicetypes/5aa59d3d5005741b7de9aa51/devices\n"
     ]
    }
   ],
   "source": [
    "s_data = SigfoxData(login=API_login, password=API_pass)"
   ]
  },
  {
   "cell_type": "code",
   "execution_count": 114,
   "metadata": {},
   "outputs": [
    {
     "data": {
      "text/plain": [
       "['5aa59d3d5005741b7de9aa51']"
      ]
     },
     "execution_count": 114,
     "metadata": {},
     "output_type": "execute_result"
    }
   ],
   "source": [
    "s_data._device_types"
   ]
  },
  {
   "cell_type": "code",
   "execution_count": 115,
   "metadata": {},
   "outputs": [
    {
     "data": {
      "text/plain": [
       "['4D30A7']"
      ]
     },
     "execution_count": 115,
     "metadata": {},
     "output_type": "execute_result"
    }
   ],
   "source": [
    "s_data.devices"
   ]
  },
  {
   "cell_type": "code",
   "execution_count": 110,
   "metadata": {},
   "outputs": [],
   "source": [
    "device_1 = SigfoxDevice(s_data._devices[0], s_data.auth)"
   ]
  },
  {
   "cell_type": "code",
   "execution_count": 111,
   "metadata": {},
   "outputs": [
    {
     "name": "stdout",
     "output_type": "stream",
     "text": [
      "get_last_message_url : https://backend.sigfox.com/api/devices/4D30A7/messages?limit=1\n"
     ]
    }
   ],
   "source": [
    "device_1.update()"
   ]
  },
  {
   "cell_type": "code",
   "execution_count": 112,
   "metadata": {},
   "outputs": [
    {
     "data": {
      "text/plain": [
       "'4D30A7_sigfox'"
      ]
     },
     "execution_count": 112,
     "metadata": {},
     "output_type": "execute_result"
    }
   ],
   "source": [
    "device_1.name"
   ]
  },
  {
   "cell_type": "code",
   "execution_count": 113,
   "metadata": {},
   "outputs": [
    {
     "data": {
      "text/plain": [
       "'{\"t\":650843}'"
      ]
     },
     "execution_count": 113,
     "metadata": {},
     "output_type": "execute_result"
    }
   ],
   "source": [
    "device_1.state"
   ]
  },
  {
   "cell_type": "code",
   "execution_count": 25,
   "metadata": {},
   "outputs": [
    {
     "data": {
      "text/plain": [
       "{'lat': '51.0',\n",
       " 'lng': '0.0',\n",
       " 'payload': 'Hello World',\n",
       " 'snr': '46.48',\n",
       " 'time': '2018-03-11 21:24:37'}"
      ]
     },
     "execution_count": 25,
     "metadata": {},
     "output_type": "execute_result"
    }
   ],
   "source": [
    "device_1.device_state_attributes"
   ]
  },
  {
   "cell_type": "code",
   "execution_count": 32,
   "metadata": {},
   "outputs": [],
   "source": [
    "def utf8len(s):\n",
    "    return len(s.encode('utf-8'))"
   ]
  },
  {
   "cell_type": "code",
   "execution_count": 34,
   "metadata": {},
   "outputs": [
    {
     "data": {
      "text/plain": [
       "11"
      ]
     },
     "execution_count": 34,
     "metadata": {},
     "output_type": "execute_result"
    }
   ],
   "source": [
    "utf8len('Hello World')"
   ]
  },
  {
   "cell_type": "markdown",
   "metadata": {},
   "source": [
    "## Tests"
   ]
  },
  {
   "cell_type": "code",
   "execution_count": 43,
   "metadata": {},
   "outputs": [
    {
     "name": "stdout",
     "output_type": "stream",
     "text": [
      "('{\"data\":[{\"id\":\"5aa59d3d5005741b7de9aa51\",\"name\":\"Pycom - '\n",
      " 'lopy\",\"group\":\"5aa59d3d5005741b7de9aa50\",\"description\":\"Auto created device '\n",
      " 'type for EVK user : Robin '\n",
      " 'Cole\",\"payloadType\":\"String\",\"contract\":\"5a706c203c878968fedcd0ff\",\"keepAlive\":0}]}')\n"
     ]
    }
   ],
   "source": [
    "auth = requests.auth.HTTPBasicAuth(API_login, API_pass)\n",
    "r = requests.get(API_URL + 'devicetypes', auth=auth)\n",
    "print_json(r.text)"
   ]
  },
  {
   "cell_type": "code",
   "execution_count": 44,
   "metadata": {},
   "outputs": [],
   "source": [
    "data = r.text"
   ]
  },
  {
   "cell_type": "code",
   "execution_count": 50,
   "metadata": {},
   "outputs": [],
   "source": [
    "mock_text = '{\"data\":[{\"id\":\"fake_type\"}]}'"
   ]
  },
  {
   "cell_type": "code",
   "execution_count": 51,
   "metadata": {},
   "outputs": [],
   "source": [
    "devices_data = json.loads(mock_text)['data']"
   ]
  },
  {
   "cell_type": "code",
   "execution_count": 52,
   "metadata": {},
   "outputs": [
    {
     "data": {
      "text/plain": [
       "[{'id': 'fake_type'}]"
      ]
     },
     "execution_count": 52,
     "metadata": {},
     "output_type": "execute_result"
    }
   ],
   "source": [
    "devices_data"
   ]
  },
  {
   "cell_type": "code",
   "execution_count": 55,
   "metadata": {},
   "outputs": [
    {
     "name": "stdout",
     "output_type": "stream",
     "text": [
      "('{\"data\":[{\"id\":\"4D30A7\",\"name\":\"Device '\n",
      " '004d30a7\",\"type\":\"5aa59d3d5005741b7de9aa51\",\"last\":1521879720,\"averageSignal\":42.330162,\"averageSnr\":42.330162,\"averageRssi\":-108.955215,\"state\":0,\"activationTime\":1520803295634,\"lat\":0.0,\"lng\":0.0,\"tokenType\":\"CONTRACT\",\"contractId\":\"5a706c203c878968fedcd0ff\",\"tokenEnd\":1552339295634,\"preventRenewal\":true,\"automaticRenewal\":false}],\"paging\":{}}')\n"
     ]
    }
   ],
   "source": [
    "r = requests.get(API_URL + 'devicetypes/' + \"5aa59d3d5005741b7de9aa51\" + '/devices', auth=auth)\n",
    "print_json(r.text)"
   ]
  },
  {
   "cell_type": "code",
   "execution_count": null,
   "metadata": {},
   "outputs": [],
   "source": [
    "'{\"data\":[{\"id\":\"fake_id\"}]}'"
   ]
  },
  {
   "cell_type": "code",
   "execution_count": 57,
   "metadata": {},
   "outputs": [
    {
     "name": "stdout",
     "output_type": "stream",
     "text": [
      "'{\"data\":[{\"device\":\"4D30A7\",\"time\":1521879720,\"data\":\"7b2274223a3635303834337d\",\"seqNumber\":94,\"rinfos\":[{\"tap\":\"0B79\",\"delay\":1.5759999752044678,\"lat\":\"51.0\",\"lng\":\"0.0\"},{\"tap\":\"1DB6\",\"delay\":3.877000093460083,\"lat\":\"51.0\",\"lng\":\"0.0\"}],\"nbFrames\":3,\"operator\":\"SIGFOX_UK_Arqiva\",\"country\":\"GBR\",\"snr\":\"47.20\",\"linkQuality\":\"GOOD\",\"groupId\":\"5aa59d3d5005741b7de9aa50\"}],\"paging\":{\"next\":\"https://backend.sigfox.com/api/devices/4D30A7/messages?limit=1&before=1521879720\"}}'\n"
     ]
    }
   ],
   "source": [
    "url = API_URL + 'devices/4D30A7/messages?limit=1'\n",
    "r = requests.get(url, auth=auth)\n",
    "print_json(r.text)"
   ]
  },
  {
   "cell_type": "code",
   "execution_count": 95,
   "metadata": {},
   "outputs": [
    {
     "data": {
      "text/plain": [
       "b'7061796c6f6164'"
      ]
     },
     "execution_count": 95,
     "metadata": {},
     "output_type": "execute_result"
    }
   ],
   "source": [
    "VALID_PAYLOAD = binascii.hexlify(b'payload')\n",
    "VALID_PAYLOAD"
   ]
  },
  {
   "cell_type": "code",
   "execution_count": 101,
   "metadata": {},
   "outputs": [
    {
     "data": {
      "text/plain": [
       "'{\"data\":[{\"time\":1521879720,\"data\":\"7061796c6f6164\",\"rinfos\":[{\"lat\":\"0.0\",\"lng\":\"0.0\"}],\"snr\":\"50.0\"}]}'"
      ]
     },
     "execution_count": 101,
     "metadata": {},
     "output_type": "execute_result"
    }
   ],
   "source": [
    "VALID_MESSAGE = '{\"data\":[{\"time\":1521879720,\"data\":\"7061796c6f6164\",\"rinfos\":[{\"lat\":\"0.0\",\"lng\":\"0.0\"}],\"snr\":\"50.0\"}]}'\n",
    "VALID_MESSAGE "
   ]
  },
  {
   "cell_type": "code",
   "execution_count": 102,
   "metadata": {},
   "outputs": [],
   "source": [
    "data = json.loads(VALID_MESSAGE )['data'][0]"
   ]
  },
  {
   "cell_type": "code",
   "execution_count": 103,
   "metadata": {},
   "outputs": [
    {
     "data": {
      "text/plain": [
       "{'data': '7061796c6f6164',\n",
       " 'rinfos': [{'lat': '0.0', 'lng': '0.0'}],\n",
       " 'snr': '50.0',\n",
       " 'time': 1521879720}"
      ]
     },
     "execution_count": 103,
     "metadata": {},
     "output_type": "execute_result"
    }
   ],
   "source": [
    "data"
   ]
  },
  {
   "cell_type": "code",
   "execution_count": 104,
   "metadata": {},
   "outputs": [],
   "source": [
    "payload = bytes.fromhex(data['data']).decode('utf-8')\n",
    "lat = data['rinfos'][0]['lat']\n",
    "lng = data['rinfos'][0]['lng']\n",
    "snr = data['snr']\n",
    "epoch_time = data['time']"
   ]
  },
  {
   "cell_type": "code",
   "execution_count": 105,
   "metadata": {},
   "outputs": [
    {
     "data": {
      "text/plain": [
       "'payload'"
      ]
     },
     "execution_count": 105,
     "metadata": {},
     "output_type": "execute_result"
    }
   ],
   "source": [
    "payload"
   ]
  },
  {
   "cell_type": "code",
   "execution_count": null,
   "metadata": {},
   "outputs": [],
   "source": []
  }
 ],
 "metadata": {
  "kernelspec": {
   "display_name": "Python 3",
   "language": "python",
   "name": "python3"
  },
  "language_info": {
   "codemirror_mode": {
    "name": "ipython",
    "version": 3
   },
   "file_extension": ".py",
   "mimetype": "text/x-python",
   "name": "python",
   "nbconvert_exporter": "python",
   "pygments_lexer": "ipython3",
   "version": "3.6.3"
  }
 },
 "nbformat": 4,
 "nbformat_minor": 2
}
